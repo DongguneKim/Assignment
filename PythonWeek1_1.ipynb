{
  "nbformat": 4,
  "nbformat_minor": 0,
  "metadata": {
    "colab": {
      "name": "PythonWeek1#1.ipynb",
      "provenance": [],
      "authorship_tag": "ABX9TyM0h2hzqXqQpVwXyhiIbPA0",
      "include_colab_link": true
    },
    "kernelspec": {
      "name": "python3",
      "display_name": "Python 3"
    }
  },
  "cells": [
    {
      "cell_type": "markdown",
      "metadata": {
        "id": "view-in-github",
        "colab_type": "text"
      },
      "source": [
        "<a href=\"https://colab.research.google.com/github/DongguneKim/Assignment/blob/Assignment-Week-%231/PythonWeek1_1.ipynb\" target=\"_parent\"><img src=\"https://colab.research.google.com/assets/colab-badge.svg\" alt=\"Open In Colab\"/></a>"
      ]
    },
    {
      "cell_type": "code",
      "metadata": {
        "id": "PVI9ojl5ld1P",
        "colab_type": "code",
        "outputId": "020df47d-9a9f-4717-a69e-2cfb00b14e17",
        "colab": {
          "base_uri": "https://localhost:8080/",
          "height": 34
        }
      },
      "source": [
        "#Q1:\n",
        "\n",
        "print(\"Hello World!!!\")\n",
        "\n"
      ],
      "execution_count": 0,
      "outputs": [
        {
          "output_type": "stream",
          "text": [
            "Hello World!!!\n"
          ],
          "name": "stdout"
        }
      ]
    },
    {
      "cell_type": "code",
      "metadata": {
        "id": "8bvUl0IOlnee",
        "colab_type": "code",
        "outputId": "d9156575-2008-4ae4-a134-654c93d54d3a",
        "colab": {
          "base_uri": "https://localhost:8080/",
          "height": 52
        }
      },
      "source": [
        "#Q2:\n",
        "\n",
        "print(type(6/2))\n",
        "print(type(6//2))\n"
      ],
      "execution_count": 0,
      "outputs": [
        {
          "output_type": "stream",
          "text": [
            "<class 'float'>\n",
            "<class 'int'>\n"
          ],
          "name": "stdout"
        }
      ]
    },
    {
      "cell_type": "code",
      "metadata": {
        "id": "Z1wNfOAAlxtu",
        "colab_type": "code",
        "outputId": "d0ac30df-5d6d-46eb-8359-9d83ae1eb608",
        "colab": {
          "base_uri": "https://localhost:8080/",
          "height": 34
        }
      },
      "source": [
        "#Q3:\n",
        "\n",
        "Total_Min = 1300\n",
        "Total_Hour = int(Total_Min/60)\n",
        "\n",
        "Total_Time_Representing=\"Hour: \"+str(Total_Hour)+\" Min: \"+str(Total_Min%60)\n",
        "print(Total_Time_Representing)"
      ],
      "execution_count": 0,
      "outputs": [
        {
          "output_type": "stream",
          "text": [
            "Hour: 21 Min: 40\n"
          ],
          "name": "stdout"
        }
      ]
    },
    {
      "cell_type": "code",
      "metadata": {
        "id": "lpf0zaGPmiAF",
        "colab_type": "code",
        "colab": {}
      },
      "source": [
        ""
      ],
      "execution_count": 0,
      "outputs": []
    }
  ]
}