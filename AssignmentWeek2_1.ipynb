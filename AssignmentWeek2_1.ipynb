{
  "nbformat": 4,
  "nbformat_minor": 0,
  "metadata": {
    "colab": {
      "name": "AssignmentWeek2#1.ipynb",
      "provenance": [],
      "authorship_tag": "ABX9TyM/jfLyyRNBbeR8ojBrtxaM",
      "include_colab_link": true
    },
    "kernelspec": {
      "name": "python3",
      "display_name": "Python 3"
    }
  },
  "cells": [
    {
      "cell_type": "markdown",
      "metadata": {
        "id": "view-in-github",
        "colab_type": "text"
      },
      "source": [
        "<a href=\"https://colab.research.google.com/github/DongguneKim/Assignment/blob/Assignmnet-Week%232/AssignmentWeek2_1.ipynb\" target=\"_parent\"><img src=\"https://colab.research.google.com/assets/colab-badge.svg\" alt=\"Open In Colab\"/></a>"
      ]
    },
    {
      "cell_type": "code",
      "metadata": {
        "id": "iqoUl1eATknp",
        "colab_type": "code",
        "outputId": "8d170e0b-c625-43d7-b44b-040ee418e736",
        "colab": {
          "base_uri": "https://localhost:8080/",
          "height": 52
        }
      },
      "source": [
        "x=3\n",
        "a=0.01\n",
        "\n",
        "for i in range(1000):\n",
        "  y_prime=2*x\n",
        "  x1=x-a*(y_prime)\n",
        "  steps=x-x1\n",
        "  if(abs(steps)<0.0000001):\n",
        "    print(\"optimal:\",x1,\"y:\",y)\n",
        "    print(i+1) \n",
        "    break\n",
        "  else:\n",
        "    x=x1"
      ],
      "execution_count": 0,
      "outputs": [
        {
          "output_type": "stream",
          "text": [
            "optimal: 4.8565874333730035e-06 y: 1.000000000024559\n",
            "660\n"
          ],
          "name": "stdout"
        }
      ]
    },
    {
      "cell_type": "code",
      "metadata": {
        "id": "POsy3ir1Xqif",
        "colab_type": "code",
        "colab": {}
      },
      "source": [
        ""
      ],
      "execution_count": 0,
      "outputs": []
    }
  ]
}