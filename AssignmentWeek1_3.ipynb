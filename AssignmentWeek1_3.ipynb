{
  "nbformat": 4,
  "nbformat_minor": 0,
  "metadata": {
    "colab": {
      "name": "AssignmentWeek1#3.ipynb",
      "provenance": [],
      "collapsed_sections": [],
      "authorship_tag": "ABX9TyPWpw6MY0lL2CZY/ILZQlF4",
      "include_colab_link": true
    },
    "kernelspec": {
      "name": "python3",
      "display_name": "Python 3"
    }
  },
  "cells": [
    {
      "cell_type": "markdown",
      "metadata": {
        "id": "view-in-github",
        "colab_type": "text"
      },
      "source": [
        "<a href=\"https://colab.research.google.com/github/DongguneKim/Assignment/blob/Assignment-Week-%231/AssignmentWeek1_3.ipynb\" target=\"_parent\"><img src=\"https://colab.research.google.com/assets/colab-badge.svg\" alt=\"Open In Colab\"/></a>"
      ]
    },
    {
      "cell_type": "code",
      "metadata": {
        "id": "Y7R8_R08SxYV",
        "colab_type": "code",
        "outputId": "bc9d35b1-793a-4465-ca7e-e8e6d00dbef6",
        "colab": {
          "base_uri": "https://localhost:8080/",
          "height": 34
        }
      },
      "source": [
        "#1-1\n",
        "a_list=[1, \"hello\", [1,2,3],True]\n",
        "print(a_list)"
      ],
      "execution_count": 0,
      "outputs": [
        {
          "output_type": "stream",
          "text": [
            "[1, 'hello', [1, 2, 3], True]\n"
          ],
          "name": "stdout"
        }
      ]
    },
    {
      "cell_type": "code",
      "metadata": {
        "id": "W0ax-jU3UIwL",
        "colab_type": "code",
        "outputId": "7b2ffdb2-7f8f-4961-e000-431bfe9f5f6c",
        "colab": {
          "base_uri": "https://localhost:8080/",
          "height": 34
        }
      },
      "source": [
        "#1-2\n",
        "print(a_list[1])"
      ],
      "execution_count": 0,
      "outputs": [
        {
          "output_type": "stream",
          "text": [
            "hello\n"
          ],
          "name": "stdout"
        }
      ]
    },
    {
      "cell_type": "code",
      "metadata": {
        "id": "5gBjpOQH3w06",
        "colab_type": "code",
        "outputId": "9897bd44-fcec-41cb-85a9-2c7c82eae32f",
        "colab": {
          "base_uri": "https://localhost:8080/",
          "height": 70
        }
      },
      "source": [
        "#1-3\n",
        "a_list=[1, \"hello\", [1,2,3],True]\n",
        "print(a_list[1])\n",
        "print(a_list[2])\n",
        "print(a_list[3])"
      ],
      "execution_count": 0,
      "outputs": [
        {
          "output_type": "stream",
          "text": [
            "hello\n",
            "[1, 2, 3]\n",
            "True\n"
          ],
          "name": "stdout"
        }
      ]
    },
    {
      "cell_type": "code",
      "metadata": {
        "id": "Ky5V12I9Uu_e",
        "colab_type": "code",
        "outputId": "b37974b9-4218-4f30-c6ee-2bf0431d0323",
        "colab": {
          "base_uri": "https://localhost:8080/",
          "height": 34
        }
      },
      "source": [
        "#1-4\n",
        "A = [1,'a']\n",
        "B = [2,1,'d']\n",
        "C=A+B\n",
        "print(C)"
      ],
      "execution_count": 0,
      "outputs": [
        {
          "output_type": "stream",
          "text": [
            "[1, 'a', 2, 1, 'd']\n"
          ],
          "name": "stdout"
        }
      ]
    },
    {
      "cell_type": "code",
      "metadata": {
        "id": "pXJrpX0U3QVL",
        "colab_type": "code",
        "outputId": "67ab2575-484d-4e2a-d09f-1087121a3e7e",
        "colab": {
          "base_uri": "https://localhost:8080/",
          "height": 52
        }
      },
      "source": [
        "#2\n",
        "soundtrack_dic={\"Rust In Peace\":\"1990\",\"Hybrid Theory\":\"2000\"}\n",
        "#2-1\n",
        "print(soundtrack_dic.keys())\n",
        "#2-2\n",
        "print(soundtrack_dic.values())"
      ],
      "execution_count": 0,
      "outputs": [
        {
          "output_type": "stream",
          "text": [
            "dict_keys(['Rust In Peace', 'Hybrid Theory'])\n",
            "dict_values(['1990', '2000'])\n"
          ],
          "name": "stdout"
        }
      ]
    },
    {
      "cell_type": "code",
      "metadata": {
        "id": "Ww3WHC_o7cVR",
        "colab_type": "code",
        "outputId": "a29cd51e-1cd4-4daa-ffbd-05a4fac90d97",
        "colab": {
          "base_uri": "https://localhost:8080/",
          "height": 34
        }
      },
      "source": [
        "#3\n",
        "#3-1\n",
        "A=set(['rap','house','electronic music', 'rap'])\n",
        "type(A)"
      ],
      "execution_count": 0,
      "outputs": [
        {
          "output_type": "execute_result",
          "data": {
            "text/plain": [
              "set"
            ]
          },
          "metadata": {
            "tags": []
          },
          "execution_count": 13
        }
      ]
    },
    {
      "cell_type": "code",
      "metadata": {
        "id": "B3cRjOVp9Mmo",
        "colab_type": "code",
        "outputId": "c5011d49-89f9-49e8-c732-13f180f79ce2",
        "colab": {
          "base_uri": "https://localhost:8080/",
          "height": 34
        }
      },
      "source": [
        "#3-2\n",
        "A = [1, 2, 2, 1]\n",
        "B=set([1, 2, 2, 1])\n",
        "sum(A)==sum(B)"
      ],
      "execution_count": 0,
      "outputs": [
        {
          "output_type": "execute_result",
          "data": {
            "text/plain": [
              "False"
            ]
          },
          "metadata": {
            "tags": []
          },
          "execution_count": 17
        }
      ]
    },
    {
      "cell_type": "code",
      "metadata": {
        "id": "xRCpTD8297S0",
        "colab_type": "code",
        "outputId": "e58d85fd-ca3e-4a2f-c79c-fc2e33d06e86",
        "colab": {
          "base_uri": "https://localhost:8080/",
          "height": 34
        }
      },
      "source": [
        "#3-3\n",
        "album_set1 = set([\"Thriller\", 'AC/DC', 'Back in Black']) \n",
        "album_set2 = set([ \"AC/DC\", \"Back in Black\", \"The Dark Side of the Moon\"])\n",
        "album_set3 = album_set1 | album_set2\n",
        "print(album_set3)"
      ],
      "execution_count": 0,
      "outputs": [
        {
          "output_type": "stream",
          "text": [
            "{'The Dark Side of the Moon', 'Thriller', 'AC/DC', 'Back in Black'}\n"
          ],
          "name": "stdout"
        }
      ]
    },
    {
      "cell_type": "code",
      "metadata": {
        "id": "ee0QNL9r-8Nt",
        "colab_type": "code",
        "outputId": "f3fcb40b-ea77-4043-aa59-6fea39e784bd",
        "colab": {
          "base_uri": "https://localhost:8080/",
          "height": 34
        }
      },
      "source": [
        "#3-4\n",
        "album_set1.issubset(album_set3)"
      ],
      "execution_count": 0,
      "outputs": [
        {
          "output_type": "execute_result",
          "data": {
            "text/plain": [
              "True"
            ]
          },
          "metadata": {
            "tags": []
          },
          "execution_count": 21
        }
      ]
    },
    {
      "cell_type": "code",
      "metadata": {
        "id": "psNOT4nh_HSM",
        "colab_type": "code",
        "outputId": "bb57040b-ba2e-4b87-a83c-4a99a0812e8d",
        "colab": {
          "base_uri": "https://localhost:8080/",
          "height": 34
        }
      },
      "source": [
        "#4-1\n",
        "Dict ={\"Artist\": \"Michael\", \"Genre\": \"R&B\", \"Sales\": 10000}\n",
        "if(Dict[\"Artist\"]==\"Michael\"):\n",
        "  print(Dict[\"Genre\"])\n",
        "else:\n",
        "  print(\"NaN\")"
      ],
      "execution_count": 0,
      "outputs": [
        {
          "output_type": "stream",
          "text": [
            "R&B\n"
          ],
          "name": "stdout"
        }
      ]
    },
    {
      "cell_type": "code",
      "metadata": {
        "id": "AjgWWSN2CSnD",
        "colab_type": "code",
        "colab": {
          "base_uri": "https://localhost:8080/",
          "height": 52
        },
        "outputId": "67fb7521-396f-4dad-e673-989086f3f475"
      },
      "source": [
        "#4-2\n",
        "#1(1) showing that my code performs well as a scale converter for temperatures..\n",
        "Tc=30\n",
        "Tf=45\n",
        "if((Tc+273)<0):\n",
        "  print(\"NOT AVAILABLE\")\n",
        "else:\n",
        "  print(Tc,\"°C -> \",(Tc*(9/5)+32),\"°F\")\n",
        "if(((Tf-32)*(5/9)+273)<0):\n",
        "  print(\"NOT AVAILABLE\")\n",
        "else:\n",
        "  print(Tf,\"°F-> \",(Tf-32)*(5/9),\"°C\")"
      ],
      "execution_count": 9,
      "outputs": [
        {
          "output_type": "stream",
          "text": [
            "30 °C ->  86.0 °F\n",
            "45 °F->  7.222222222222222 °C\n"
          ],
          "name": "stdout"
        }
      ]
    },
    {
      "cell_type": "code",
      "metadata": {
        "id": "OZxhCmes57EM",
        "colab_type": "code",
        "colab": {
          "base_uri": "https://localhost:8080/",
          "height": 52
        },
        "outputId": "41d70867-9e6d-4e05-c018-0178af9bc176"
      },
      "source": [
        "#1(2) Also, it returns error message when given temperatures can't exist in real world\n",
        "\n",
        "Tc=-300\n",
        "Tf=-700\n",
        "if((Tc+273)<0):\n",
        "  print(\"NOT AVAILABLE\")\n",
        "else:\n",
        "  print(Tc,\"°C -> \",(Tc*(9/5)+32),\"°F\")\n",
        "if(((Tf-32)*(5/9)+273)<0):\n",
        "  print(\"NOT AVAILABLE\")\n",
        "else:\n",
        "  print(Tf,\"°F-> \",(Tf-32)*(5/9),\"°C\")"
      ],
      "execution_count": 10,
      "outputs": [
        {
          "output_type": "stream",
          "text": [
            "NOT AVAILABLE\n",
            "NOT AVAILABLE\n"
          ],
          "name": "stdout"
        }
      ]
    },
    {
      "cell_type": "code",
      "metadata": {
        "id": "3eUfqhbQ-lO5",
        "colab_type": "code",
        "colab": {
          "base_uri": "https://localhost:8080/",
          "height": 34
        },
        "outputId": "7683493b-fa26-4594-c696-d9d0866c9350"
      },
      "source": [
        "#2\n",
        "N = [1,2,3,5,9,17,31,28,91,123]\n",
        "N_all=len(N)\n",
        "N_even=0\n",
        "for i in N:\n",
        "  if((i%2)==0):\n",
        "    N_even=N_even+1\n",
        "print(\"Even:\",N_even,\"Odd:\",N_all-N_even)"
      ],
      "execution_count": 13,
      "outputs": [
        {
          "output_type": "stream",
          "text": [
            "Even: 2 Odd: 8\n"
          ],
          "name": "stdout"
        }
      ]
    },
    {
      "cell_type": "code",
      "metadata": {
        "id": "RF3yttuS_YLd",
        "colab_type": "code",
        "colab": {
          "base_uri": "https://localhost:8080/",
          "height": 34
        },
        "outputId": "3e35038b-3890-44bb-b47f-510a7bf80867"
      },
      "source": [
        "#3\n",
        "def isPrime(x):\n",
        "  if(x==1):\n",
        "    return False\n",
        "  else:\n",
        "    for l in range(2,x-1):\n",
        "      if(x%l==0):\n",
        "        return False\n",
        "  \n",
        "  return True\n",
        "\n",
        "N = [1,2,3,5,9,17,31,28,91,123]\n",
        "N_all=len(N)\n",
        "N_prime=0\n",
        "for i in N:\n",
        "  if(isPrime(i)==True):\n",
        "    N_prime=N_prime+1\n",
        "print(\"Prime:\",N_prime,\"Non-prime:\",N_all-N_prime)"
      ],
      "execution_count": 15,
      "outputs": [
        {
          "output_type": "stream",
          "text": [
            "Prime: 5 Non-prime: 5\n"
          ],
          "name": "stdout"
        }
      ]
    },
    {
      "cell_type": "code",
      "metadata": {
        "id": "XMp2AOtKJTXL",
        "colab_type": "code",
        "colab": {}
      },
      "source": [
        ""
      ],
      "execution_count": 0,
      "outputs": []
    }
  ]
}