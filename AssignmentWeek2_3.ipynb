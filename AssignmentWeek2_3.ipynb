{
  "nbformat": 4,
  "nbformat_minor": 0,
  "metadata": {
    "colab": {
      "name": "AssignmentWeek2#3.ipynb",
      "provenance": [],
      "authorship_tag": "ABX9TyO0ZdHDTYtMoefPN3zpEGFJ",
      "include_colab_link": true
    },
    "kernelspec": {
      "name": "python3",
      "display_name": "Python 3"
    }
  },
  "cells": [
    {
      "cell_type": "markdown",
      "metadata": {
        "id": "view-in-github",
        "colab_type": "text"
      },
      "source": [
        "<a href=\"https://colab.research.google.com/github/DongguneKim/Assignment/blob/Assignmnet-Week%232/AssignmentWeek2_3.ipynb\" target=\"_parent\"><img src=\"https://colab.research.google.com/assets/colab-badge.svg\" alt=\"Open In Colab\"/></a>"
      ]
    },
    {
      "cell_type": "code",
      "metadata": {
        "id": "WgXw-3bqY6qx",
        "colab_type": "code",
        "colab": {}
      },
      "source": [
        "#1\n",
        "import matplotlib.pyplot as plt\n",
        "%matplotlib inline \n",
        "class Rectangle(object):\n",
        "  def __init__(self, width, height, color):\n",
        "    self.width = width\n",
        "    self.height = height\n",
        "    self.color = color \n",
        "  \n",
        "  def drawRectangle(self):\n",
        "    plt.gca().add_patch(plt.Rectangle((0,0), self.width, self.height, fc = self.color))\n",
        "    plt.axis('scaled')\n",
        "    plt.show()\n",
        "\n",
        "  def ChangeWidth(self, width):\n",
        "    self.width=width\n",
        "  def ChangeHeight(self, height):\n",
        "    self.height=height\n",
        "  def ChangeColor(self,color):\n",
        "    self.color=color"
      ],
      "execution_count": 0,
      "outputs": []
    },
    {
      "cell_type": "code",
      "metadata": {
        "id": "IkSSx9V6Zfoq",
        "colab_type": "code",
        "colab": {
          "base_uri": "https://localhost:8080/",
          "height": 1000
        },
        "outputId": "79d69bbd-f7d1-48eb-a33a-d9a491e273e5"
      },
      "source": [
        "A_R=Rectangle(2,3,'red')\n",
        "A_R.drawRectangle()\n",
        "A_R.ChangeWidth(4)\n",
        "A_R.drawRectangle()\n",
        "A_R.ChangeHeight(5)\n",
        "A_R.drawRectangle()\n",
        "A_R.ChangeColor('magenta')\n",
        "A_R.drawRectangle()"
      ],
      "execution_count": 13,
      "outputs": [
        {
          "output_type": "display_data",
          "data": {
            "image/png": "[encoded data removed]",
            "text/plain": [
              "<Figure size 432x288 with 1 Axes>"
            ]
          },
          "metadata": {
            "tags": [],
            "needs_background": "light"
          }
        },
        {
          "output_type": "display_data",
          "data": {
            "image/png": "[encoded data removed]",
            "text/plain": [
              "<Figure size 432x288 with 1 Axes>"
            ]
          },
          "metadata": {
            "tags": [],
            "needs_background": "light"
          }
        },
        {
          "output_type": "display_data",
          "data": {
            "image/png": "[encoded data removed]",
            "text/plain": [
              "<Figure size 432x288 with 1 Axes>"
            ]
          },
          "metadata": {
            "tags": [],
            "needs_background": "light"
          }
        },
        {
          "output_type": "display_data",
          "data": {
            "image/png": "[encoded data removed]",
            "text/plain": [
              "<Figure size 432x288 with 1 Axes>"
            ]
          },
          "metadata": {
            "tags": [],
            "needs_background": "light"
          }
        }
      ]
    },
    {
      "cell_type": "code",
      "metadata": {
        "id": "ufhjDRvUaRNm",
        "colab_type": "code",
        "colab": {
          "base_uri": "https://localhost:8080/",
          "height": 566
        },
        "outputId": "177e86a3-3750-4219-b8eb-945958ea2491"
      },
      "source": [
        "#2\n",
        "import matplotlib.pyplot as plt\n",
        "%matplotlib inline \n",
        "from google.colab import drive\n",
        "drive.mount('/content/gdrive')\n",
        "class Circle(object):\n",
        "  def __init__(self, radius, color): \n",
        "    self.radius = radius\n",
        "    self.color = color \n",
        "  def drawCircle(self):\n",
        "    plt.gca().add_patch(plt.Circle((0,0), radius = self.radius, fc = self.color))\n",
        "    plt.axis('scaled')\n",
        "    plt.show()\n",
        "\n",
        "class Rectangle(object):\n",
        "  def __init__(self, width, height, color):\n",
        "    self.width = width\n",
        "    self.height = height\n",
        "    self.color = color \n",
        "  def drawRectangle(self):\n",
        "    plt.gca().add_patch(plt.Rectangle((0,0), self.width, self.height, fc = self.color))\n",
        "    plt.axis('scaled')\n",
        "    plt.show()\n",
        "CircleA=\"/content/gdrive/My Drive/Circle.txt\"\n",
        "RectB=\"/content/gdrive/My Drive/Rect.txt\"\n",
        "with open(CircleA,\"r\") as CF:\n",
        " radius=(float)(CF.readline())\n",
        " print(radius)\n",
        " color=CF.readline()\n",
        " print(color)\n",
        " AC=Circle(radius,color)\n",
        " AC.drawCircle()\n",
        "with open(RectB,\"r\") as RB:\n",
        "  width=(float)(RB.readline())\n",
        "  height=(float)(RB.readline())\n",
        "  color=RB.readline()\n",
        "  R_B=Rectangle(width,height,color)\n",
        "  R_B.drawRectangle()\n",
        "\n"
      ],
      "execution_count": 24,
      "outputs": [
        {
          "output_type": "stream",
          "text": [
            "Drive already mounted at /content/gdrive; to attempt to forcibly remount, call drive.mount(\"/content/gdrive\", force_remount=True).\n",
            "3.0\n",
            "magenta\n"
          ],
          "name": "stdout"
        },
        {
          "output_type": "display_data",
          "data": {
            "image/png": "[encoded data removed]",
            "text/plain": [
              "<Figure size 432x288 with 1 Axes>"
            ]
          },
          "metadata": {
            "tags": [],
            "needs_background": "light"
          }
        },
        {
          "output_type": "display_data",
          "data": {
            "image/png": "[encoded data removed]",
            "text/plain": [
              "<Figure size 432x288 with 1 Axes>"
            ]
          },
          "metadata": {
            "tags": [],
            "needs_background": "light"
          }
        }
      ]
    },
    {
      "cell_type": "code",
      "metadata": {
        "id": "txdjDw0iTDVs",
        "colab_type": "code",
        "colab": {
          "base_uri": "https://localhost:8080/",
          "height": 52
        },
        "outputId": "9b477436-536d-4ee6-a2c3-562bb8a51c89"
      },
      "source": [
        "#3\n",
        "import matplotlib.pyplot as plt\n",
        "import numpy as np\n",
        "%matplotlib inline \n",
        "class Circle(object): .. \n",
        "  def __init__(self, radius, color): \n",
        "    self.radius = radius\n",
        "    self.color = color \n",
        "\n",
        "  #functions (methods) : only methods can touch attributes. --> Encapsulation... \n",
        "  def ChangeRadium(self, r):\n",
        "    self.radius=r #self.radius= 5 when RedCircle is initialized..\n",
        "    \n",
        "  \n",
        "  def drawCircle(self): # drawing method \n",
        "    plt.gca().add_patch(plt.Circle((0,0), radius = self.radius, fc = self.color)) # draw a circle with radius\n",
        "    plt.axis('scaled') #when displayed, it is scaled (fit to the screen size)\n",
        "    plt.show() #display to the computer screen. \n",
        "  def Size(self):\n",
        "    return (np.pi)*(self.radius**2)\n",
        "class Rectangle(object):\n",
        "\n",
        "  #data (attiributes)\n",
        "  #functions (methods) : only these functions (methods) can touch the attributes in the Rectangle class.. --> Encapsulation\n",
        "\n",
        "  #Constructor\n",
        "\n",
        "  def __init__(self, width, height, color):\n",
        "    self.width = width\n",
        "    self.height = height\n",
        "    self.color = color \n",
        "  \n",
        "  def drawRectangle(self):\n",
        "    plt.gca().add_patch(plt.Rectangle((0,0), self.width, self.height, fc = self.color))\n",
        "    plt.axis('scaled')\n",
        "    plt.show()\n",
        "\n",
        "  def Size(self):\n",
        "    return self.width*self.height\n",
        "  \n",
        "  A_C=Circle(1,\"magenta\")\n",
        "  A_R=Rectangle(3,4,\"green\")\n",
        "  print(A_C.Size())\n",
        "  print(A_R.Size())"
      ],
      "execution_count": 6,
      "outputs": [
        {
          "output_type": "stream",
          "text": [
            "3.141592653589793\n",
            "12\n"
          ],
          "name": "stdout"
        }
      ]
    },
    {
      "cell_type": "code",
      "metadata": {
        "id": "eTFCthg0WWg0",
        "colab_type": "code",
        "colab": {}
      },
      "source": [
        ""
      ],
      "execution_count": 0,
      "outputs": []
    }
  ]
}